{
 "cells": [
  {
   "cell_type": "code",
   "execution_count": null,
   "metadata": {
    "collapsed": true,
    "pycharm": {
     "name": "#%%\n"
    }
   },
   "outputs": [],
   "source": [
    "from google.colab import drive\n",
    "drive.mount('/content/drive', force_remount=True)\n",
    "%cd /content/drive/My\\ Drive/nlp2022-hw2/hw2\n",
    "%ls\n",
    "import torch\n",
    "from hw2.utils import read_dataset, evaluate_argument_identification, evaluate_argument_classification, print_table\n",
    "import pathlib\n",
    "from vocab import Vocabulary\n",
    "from dataset import PICDataset\n",
    "from torch.utils.data import DataLoader\n",
    "from config import config as cfg\n",
    "from implementation import build_model_34"
   ]
  },
  {
   "cell_type": "code",
   "execution_count": null,
   "outputs": [],
   "source": [
    "curr_dir = pathlib.Path().absolute()\n",
    "proj_dir = curr_dir.parent.parent\n",
    "hw1_dir = curr_dir.parent\n",
    "data_train_path= proj_dir/'data'/'data_hw2'/'EN'/'train.json'\n",
    "data_dev_path=proj_dir/'data'/'data_hw2'/'EN'/'dev.json'\n",
    "model_dir = proj_dir/'model'\n",
    "train_sentences, train_labels =read_dataset(data_train_path)\n",
    "val_sentences, val_labels = read_dataset(data_dev_path)\n",
    "if (model_dir / 'vocab.pt').is_file():\n",
    "    vocab = torch.load(model_dir / 'vocab.pt')\n",
    "else:\n",
    "    vocab = Vocabulary()\n",
    "    vocab.construct_vocabulary(train_sentences, train_labels)\n",
    "    torch.save(vocab, model_dir / 'vocab.pt')\n",
    "if (model_dir / 'train_sentences.pt').is_file():\n",
    "    train_dataset = torch.load(model_dir / 'train_dataset.pt')\n",
    "    val_dataset = torch.load(model_dir / 'val_dataset.pt')\n",
    "else:\n",
    "    train_dataset = PICDataset(train_sentences, train_labels, vocab)\n",
    "    train_dataset.prepare_sentences()\n",
    "    torch.save(train_dataset, model_dir/ 'train_dataset.pt')\n",
    "    val_dataset = PICDataset(val_sentences, val_labels, vocab)\n",
    "    val_dataset.prepare_sentences()\n",
    "    torch.save(val_dataset, model_dir/ 'val_dataset.pt')\n",
    "\n",
    "train_dataloader = DataLoader(train_dataset, batch_size=cfg['batch_size'], collate_fn=train_dataset.collate_fn, shuffle=True)\n",
    "val_dataloader = DataLoader(val_dataset, batch_size=cfg['batch_size'], collate_fn=val_dataset.collate_fn, shuffle=True)"
   ],
   "metadata": {
    "collapsed": false,
    "pycharm": {
     "name": "#%%\n"
    }
   }
  },
  {
   "cell_type": "code",
   "execution_count": null,
   "outputs": [],
   "source": [
    "net = build_model_34(language='EN', device='cuda')\n",
    "if cfg['is_train']:\n",
    "    net.SRLModel.train_net(train_dataloader, val_dataloader, model_dir)\n",
    "else:\n",
    "    net.SRLModel.load_state_dict(torch.load(model_dir / 'model_1epoch_1655163289.557895.pt', map_location=torch.device('cpu')))"
   ],
   "metadata": {
    "collapsed": false,
    "pycharm": {
     "name": "#%%\n"
    }
   }
  },
  {
   "cell_type": "code",
   "execution_count": null,
   "outputs": [],
   "source": [
    "%matplotlib inline\n",
    "prediction_val = net.predict_sentences(val_dataloader)\n",
    "arg_identification_val = evaluate_argument_identification(val_dataset.labels, prediction_val)\n",
    "print_table('argIdentVal', arg_identification_val)\n",
    "arg_classification_val = evaluate_argument_classification(val_dataset.labels, prediction_val)\n",
    "print_table('argClassVal', arg_classification_val)"
   ],
   "metadata": {
    "collapsed": false,
    "pycharm": {
     "name": "#%%\n"
    }
   }
  }
 ],
 "metadata": {
  "kernelspec": {
   "display_name": "Python 3",
   "language": "python",
   "name": "python3"
  },
  "language_info": {
   "codemirror_mode": {
    "name": "ipython",
    "version": 2
   },
   "file_extension": ".py",
   "mimetype": "text/x-python",
   "name": "python",
   "nbconvert_exporter": "python",
   "pygments_lexer": "ipython2",
   "version": "2.7.6"
  }
 },
 "nbformat": 4,
 "nbformat_minor": 0
}